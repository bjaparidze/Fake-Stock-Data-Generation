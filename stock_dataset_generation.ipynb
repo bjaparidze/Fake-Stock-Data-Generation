{
 "cells": [
  {
   "cell_type": "code",
   "execution_count": 1,
   "metadata": {},
   "outputs": [],
   "source": [
    "%load_ext autoreload\n",
    "%autoreload all\n",
    "import numpy as np\n",
    "import pandas as pd\n",
    "import pandas_ta as ta\n",
    "from faker import Faker\n",
    "from custom_providers import dates, names_and_tickers, price_columns, sectors\n",
    "from calculated_columns.moving_average import calculate_moving_average\n",
    "from calculated_columns.macd import calculate_macd\n",
    "import talib"
   ]
  },
  {
   "cell_type": "code",
   "execution_count": 2,
   "metadata": {},
   "outputs": [],
   "source": [
    "# Specify number of rows and price range\n",
    "num_rows = 100\n",
    "price_range = (100, 1000)\n",
    "time_period_in_days = 8\n",
    "\n",
    "# Add custom providers\n",
    "fake = Faker()\n",
    "fake.add_provider(dates.Dates)\n",
    "fake.add_provider(names_and_tickers.NamesAndTickers)\n",
    "fake.add_provider(price_columns.PriceColumns)\n",
    "fake.add_provider(sectors.Sectors)"
   ]
  },
  {
   "cell_type": "code",
   "execution_count": 3,
   "metadata": {},
   "outputs": [],
   "source": [
    "# Generate values for initial columns\n",
    "date_df = fake.generate_dates(time_period_in_days=time_period_in_days,\n",
    "                              num_rows=num_rows,)\n",
    "\n",
    "# name_prob_dict = {\"Company\": 0.1, \"Ticker\": 0.1}\n",
    "name_ticker_df = fake.generate_names_and_tickers(\n",
    "    time_period_in_days=time_period_in_days,\n",
    "    num_rows=num_rows\n",
    ")#, **name_prob_dict)\n",
    "\n",
    "sector_df = fake.generate_sectors(\n",
    "    num_rows=num_rows,\n",
    "    time_period_in_days=time_period_in_days\n",
    ")\n",
    "\n",
    "# price_prob_dict = {\n",
    "#     \"Open Price\": 0.1,\n",
    "#     \"Close Price\": 0.1,\n",
    "#     \"High Price\": 0.1,\n",
    "#     \"Low Price\": 0.1,\n",
    "#     \"Volume\": 0.1\n",
    "# }\n",
    "\n",
    "price_df = fake.generate_prices(\n",
    "    num_rows=num_rows,\n",
    "    price_range=price_range\n",
    ")"
   ]
  },
  {
   "cell_type": "code",
   "execution_count": 4,
   "metadata": {},
   "outputs": [
    {
     "data": {
      "text/html": [
       "<div>\n",
       "<style scoped>\n",
       "    .dataframe tbody tr th:only-of-type {\n",
       "        vertical-align: middle;\n",
       "    }\n",
       "\n",
       "    .dataframe tbody tr th {\n",
       "        vertical-align: top;\n",
       "    }\n",
       "\n",
       "    .dataframe thead th {\n",
       "        text-align: right;\n",
       "    }\n",
       "</style>\n",
       "<table border=\"1\" class=\"dataframe\">\n",
       "  <thead>\n",
       "    <tr style=\"text-align: right;\">\n",
       "      <th></th>\n",
       "      <th>Date</th>\n",
       "      <th>Company</th>\n",
       "      <th>Ticker</th>\n",
       "      <th>Sector</th>\n",
       "      <th>Open Price</th>\n",
       "      <th>Close Price</th>\n",
       "      <th>High Price</th>\n",
       "      <th>Low Price</th>\n",
       "      <th>Volume</th>\n",
       "    </tr>\n",
       "  </thead>\n",
       "  <tbody>\n",
       "    <tr>\n",
       "      <th>0</th>\n",
       "      <td>2023-01-19</td>\n",
       "      <td>Jones Inc</td>\n",
       "      <td>JI2E8</td>\n",
       "      <td>Consumer Goods</td>\n",
       "      <td>141.397455</td>\n",
       "      <td>139.889615</td>\n",
       "      <td>144.257289</td>\n",
       "      <td>124.659403</td>\n",
       "      <td>241915</td>\n",
       "    </tr>\n",
       "    <tr>\n",
       "      <th>1</th>\n",
       "      <td>2023-01-20</td>\n",
       "      <td>Jones Inc</td>\n",
       "      <td>JI2E8</td>\n",
       "      <td>Consumer Goods</td>\n",
       "      <td>131.514632</td>\n",
       "      <td>128.909800</td>\n",
       "      <td>134.374466</td>\n",
       "      <td>113.679588</td>\n",
       "      <td>737952</td>\n",
       "    </tr>\n",
       "    <tr>\n",
       "      <th>2</th>\n",
       "      <td>2023-01-21</td>\n",
       "      <td>Jones Inc</td>\n",
       "      <td>JI2E8</td>\n",
       "      <td>Consumer Goods</td>\n",
       "      <td>112.707259</td>\n",
       "      <td>116.794285</td>\n",
       "      <td>119.654119</td>\n",
       "      <td>97.477046</td>\n",
       "      <td>218124</td>\n",
       "    </tr>\n",
       "    <tr>\n",
       "      <th>3</th>\n",
       "      <td>2023-01-22</td>\n",
       "      <td>Jones Inc</td>\n",
       "      <td>JI2E8</td>\n",
       "      <td>Consumer Goods</td>\n",
       "      <td>144.616730</td>\n",
       "      <td>148.530827</td>\n",
       "      <td>151.390660</td>\n",
       "      <td>129.386517</td>\n",
       "      <td>447477</td>\n",
       "    </tr>\n",
       "    <tr>\n",
       "      <th>4</th>\n",
       "      <td>2023-01-23</td>\n",
       "      <td>Jones Inc</td>\n",
       "      <td>JI2E8</td>\n",
       "      <td>Consumer Goods</td>\n",
       "      <td>277.884390</td>\n",
       "      <td>285.471934</td>\n",
       "      <td>288.331767</td>\n",
       "      <td>262.654177</td>\n",
       "      <td>535830</td>\n",
       "    </tr>\n",
       "  </tbody>\n",
       "</table>\n",
       "</div>"
      ],
      "text/plain": [
       "         Date    Company Ticker          Sector  Open Price  Close Price  \\\n",
       "0  2023-01-19  Jones Inc  JI2E8  Consumer Goods  141.397455   139.889615   \n",
       "1  2023-01-20  Jones Inc  JI2E8  Consumer Goods  131.514632   128.909800   \n",
       "2  2023-01-21  Jones Inc  JI2E8  Consumer Goods  112.707259   116.794285   \n",
       "3  2023-01-22  Jones Inc  JI2E8  Consumer Goods  144.616730   148.530827   \n",
       "4  2023-01-23  Jones Inc  JI2E8  Consumer Goods  277.884390   285.471934   \n",
       "\n",
       "   High Price   Low Price  Volume  \n",
       "0  144.257289  124.659403  241915  \n",
       "1  134.374466  113.679588  737952  \n",
       "2  119.654119   97.477046  218124  \n",
       "3  151.390660  129.386517  447477  \n",
       "4  288.331767  262.654177  535830  "
      ]
     },
     "execution_count": 4,
     "metadata": {},
     "output_type": "execute_result"
    }
   ],
   "source": [
    "df = pd.concat([date_df, name_ticker_df, sector_df, price_df], axis=1)\n",
    "df.head()"
   ]
  },
  {
   "cell_type": "code",
   "execution_count": 5,
   "metadata": {},
   "outputs": [],
   "source": [
    "window = 10\n",
    "\n",
    "# Calculate and add Moving Average with numpy\n",
    "df['Moving Average'] = calculate_moving_average(df[\"Close Price\"], window)\n",
    "\n",
    "# Relative Strength Index with pandas_ta\n",
    "df['RSI'] = ta.rsi(df['Close Price'], length=14)\n",
    "\n",
    "# Calculate and add MACD and Signal Line columns to df\n",
    "calculate_macd(df, \"Close Price\")\n",
    "\n",
    "# Bollinger Bands with TALib\n",
    "df['SMA'] = talib.SMA(df['Close Price'], timeperiod=window)\n",
    "df['Upper_Band'], df['Middle_Band'], df['Lower_Band'] = talib.BBANDS(df['Close Price'], timeperiod=window, nbdevup=2, nbdevdn=2)\n",
    "\n",
    "# On-Balance Volume (OBV) with TALib\n",
    "df['OBV'] = talib.OBV(df['Close Price'], df['Volume'])\n",
    "\n",
    "#Chaikin Money Flow with TALib\n",
    "df['CMF'] = talib.ADOSC(df['High Price'], df['Low Price'], df['Close Price'], df['Volume'], fastperiod=3, slowperiod=10)"
   ]
  },
  {
   "cell_type": "code",
   "execution_count": 7,
   "metadata": {},
   "outputs": [],
   "source": [
    "# Calculate RSI\n",
    "rsi_period = 14  # RSI period, typically 14 days\n",
    "rsi_values = talib.RSI(df['Close Price'], timeperiod=rsi_period)\n",
    "\n",
    "# Add RSI values to the DataFrame\n",
    "df['rsi'] = rsi_values"
   ]
  },
  {
   "cell_type": "code",
   "execution_count": 7,
   "metadata": {},
   "outputs": [
    {
     "data": {
      "text/plain": [
       "21"
      ]
     },
     "execution_count": 7,
     "metadata": {},
     "output_type": "execute_result"
    }
   ],
   "source": [
    "len(df.columns)"
   ]
  }
 ],
 "metadata": {
  "kernelspec": {
   "display_name": ".venv",
   "language": "python",
   "name": "python3"
  },
  "language_info": {
   "codemirror_mode": {
    "name": "ipython",
    "version": 3
   },
   "file_extension": ".py",
   "mimetype": "text/x-python",
   "name": "python",
   "nbconvert_exporter": "python",
   "pygments_lexer": "ipython3",
   "version": "3.11.4"
  },
  "orig_nbformat": 4
 },
 "nbformat": 4,
 "nbformat_minor": 2
}
